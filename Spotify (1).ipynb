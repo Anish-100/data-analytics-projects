{
  "nbformat": 4,
  "nbformat_minor": 0,
  "metadata": {
    "colab": {
      "provenance": []
    },
    "kernelspec": {
      "name": "python3",
      "display_name": "Python 3"
    },
    "language_info": {
      "name": "python"
    }
  },
  "cells": [
    {
      "cell_type": "markdown",
      "source": [
        "#Spotify Data Analysis\n"
      ],
      "metadata": {
        "id": "EYPDeCXMXoaM"
      }
    },
    {
      "cell_type": "markdown",
      "source": [
        "##Import\n"
      ],
      "metadata": {
        "id": "A9uz1X73X10I"
      }
    },
    {
      "cell_type": "code",
      "source": [
        "import pandas as pd"
      ],
      "metadata": {
        "id": "9y5jiXGwX34m"
      },
      "execution_count": null,
      "outputs": []
    },
    {
      "cell_type": "markdown",
      "source": [
        "## Upload the Data\n"
      ],
      "metadata": {
        "id": "1D77xyQaXsvj"
      }
    },
    {
      "cell_type": "code",
      "execution_count": null,
      "metadata": {
        "id": "YbVc5XEmXO-s"
      },
      "outputs": [],
      "source": [
        "Spotify_df = pandas.read_csv('Spotify_Song_Attributes.csv')"
      ]
    },
    {
      "cell_type": "markdown",
      "source": [
        "##Main Code\n"
      ],
      "metadata": {
        "id": "FPBE95FFaRgv"
      }
    },
    {
      "cell_type": "markdown",
      "source": [
        "###  Spotify Code"
      ],
      "metadata": {
        "id": "4RmgR8xtjDPj"
      }
    },
    {
      "cell_type": "code",
      "source": [
        "Spotify_df.head()"
      ],
      "metadata": {
        "id": "CxNupu_rZCIu"
      },
      "execution_count": null,
      "outputs": []
    },
    {
      "cell_type": "code",
      "source": [
        "Spotify_df.describe"
      ],
      "metadata": {
        "id": "_-dtIkTfbTLJ"
      },
      "execution_count": null,
      "outputs": []
    },
    {
      "cell_type": "code",
      "source": [
        "Spotify_df.columns\n"
      ],
      "metadata": {
        "id": "HkfL8n_SbL61"
      },
      "execution_count": null,
      "outputs": []
    },
    {
      "cell_type": "code",
      "source": [
        "#\n",
        "columns_of_interest = [\n",
        "    'trackName', 'artistName', 'msPlayed', 'genre',\n",
        "    'danceability', 'energy','tempo'\n",
        "    ]\n"
      ],
      "metadata": {
        "id": "pqxYV3RCbY6z"
      },
      "execution_count": null,
      "outputs": []
    },
    {
      "cell_type": "code",
      "source": [
        "Spotify_df = Spotify_df[columns_of_interest]"
      ],
      "metadata": {
        "id": "dVLyd2Y9bx-f"
      },
      "execution_count": null,
      "outputs": []
    },
    {
      "cell_type": "code",
      "source": [
        "Spotify_df.head()"
      ],
      "metadata": {
        "id": "g_ZGw0Y5cF01"
      },
      "execution_count": null,
      "outputs": []
    },
    {
      "cell_type": "code",
      "source": [
        "len(Spotify_df['genre'].unique())"
      ],
      "metadata": {
        "colab": {
          "base_uri": "https://localhost:8080/"
        },
        "id": "7WK1jliycNyu",
        "outputId": "f586cbdb-e1e1-4fa5-e5dd-940154dd5322"
      },
      "execution_count": null,
      "outputs": [
        {
          "output_type": "execute_result",
          "data": {
            "text/plain": [
              "524"
            ]
          },
          "metadata": {},
          "execution_count": 21
        }
      ]
    },
    {
      "cell_type": "code",
      "source": [
        "Spotify_df['genre'].unique()"
      ],
      "metadata": {
        "id": "uB08hEkjcbUe"
      },
      "execution_count": null,
      "outputs": []
    },
    {
      "cell_type": "code",
      "source": [
        "#Most popular genres\n",
        "Spotify_df.groupby('artistName')['msPlayed'].count().sort_values(ascending=False).head(10)"
      ],
      "metadata": {
        "id": "EyrdU6F5cyzU"
      },
      "execution_count": null,
      "outputs": []
    },
    {
      "cell_type": "code",
      "source": [
        "#To remove duplicates\n",
        "Spotify_df = Spotify_df.drop_duplicates()"
      ],
      "metadata": {
        "id": "LUu4rLs2kMMP"
      },
      "execution_count": null,
      "outputs": []
    },
    {
      "cell_type": "code",
      "source": [
        "artist =list[ Spotify_df['artistName'].unique()]\n",
        "artist_df = Spotify_df[Spotify_df['artistName'] == artist]\n",
        "#print(artist,len(artist_df))\n",
        "if len(artist_df['genre'].unique()) >1 :\n",
        " print(artist)"
      ],
      "metadata": {
        "id": "aZv3SXBzjOjo"
      },
      "execution_count": null,
      "outputs": []
    },
    {
      "cell_type": "code",
      "source": [],
      "metadata": {
        "id": "Kz4D3aDQjue5"
      },
      "execution_count": null,
      "outputs": []
    },
    {
      "cell_type": "markdown",
      "source": [
        "###Blackbear"
      ],
      "metadata": {
        "id": "_C4zZj1tjAKE"
      }
    },
    {
      "cell_type": "code",
      "source": [
        "blackbear_df = Spotify_df[Spotify_df['artistName'] =='blackbear']"
      ],
      "metadata": {
        "id": "dDdvdzM2f1VJ"
      },
      "execution_count": null,
      "outputs": []
    },
    {
      "cell_type": "code",
      "source": [
        "blackbear_df.head()"
      ],
      "metadata": {
        "id": "ItwwpUScgWi3"
      },
      "execution_count": null,
      "outputs": []
    },
    {
      "cell_type": "code",
      "source": [
        "blackbear_df['genre'].unique()"
      ],
      "metadata": {
        "colab": {
          "base_uri": "https://localhost:8080/"
        },
        "id": "YKu53PbOgcDE",
        "outputId": "acd16c14-9847-479f-bbc4-c41f57606963"
      },
      "execution_count": null,
      "outputs": [
        {
          "output_type": "execute_result",
          "data": {
            "text/plain": [
              "array(['pop', nan], dtype=object)"
            ]
          },
          "metadata": {},
          "execution_count": 41
        }
      ]
    },
    {
      "cell_type": "code",
      "source": [
        "blackbear_df['msPlayed'].describe()"
      ],
      "metadata": {
        "id": "sFe1vWCRgq3R"
      },
      "execution_count": null,
      "outputs": []
    },
    {
      "cell_type": "code",
      "source": [
        "\n",
        "blackbear_df.sort_values(by = 'msPlayed', ascending=False)"
      ],
      "metadata": {
        "id": "hsZge4ndh9Fg"
      },
      "execution_count": null,
      "outputs": []
    },
    {
      "cell_type": "code",
      "source": [],
      "metadata": {
        "id": "WroWDQbfixlU"
      },
      "execution_count": null,
      "outputs": []
    }
  ]
}